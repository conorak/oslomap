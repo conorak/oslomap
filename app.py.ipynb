{
 "cells": [
  {
   "cell_type": "code",
   "execution_count": 187,
   "id": "08f5a45b",
   "metadata": {},
   "outputs": [],
   "source": [
    "from flask import Flask, request, render_template, make_response\n",
    "import folium\n",
    "import geopandas as gpd\n",
    "import json\n",
    "import pandas as pd\n",
    "import numpy as np\n",
    "import os"
   ]
  },
  {
   "cell_type": "code",
   "execution_count": 2,
   "id": "440e4296",
   "metadata": {},
   "outputs": [
    {
     "name": "stderr",
     "output_type": "stream",
     "text": [
      "C:\\Users\\conorak\\AppData\\Local\\Temp\\ipykernel_32524\\3811594782.py:6: SettingWithCopyWarning: \n",
      "A value is trying to be set on a copy of a slice from a DataFrame\n",
      "\n",
      "See the caveats in the documentation: https://pandas.pydata.org/pandas-docs/stable/user_guide/indexing.html#returning-a-view-versus-a-copy\n",
      "  data['place'][i]=1\n"
     ]
    }
   ],
   "source": [
    "data = gpd.read_file(r'C:\\Users\\conorak\\SegregationMaps\\Grunnkretser 2020.shp')\n",
    "data = data.to_crs(epsg=4326)\n",
    "data['place']=0\n",
    "for i in range(len(data)):\n",
    "    if data['grunnkrets'][i][:4]=='0301':\n",
    "        data['place'][i]=1\n",
    "data = data[data['place']==1]\n",
    "data.reset_index(inplace=True)"
   ]
  },
  {
   "cell_type": "code",
   "execution_count": 57,
   "id": "c3e5d47a",
   "metadata": {},
   "outputs": [
    {
     "name": "stderr",
     "output_type": "stream",
     "text": [
      "C:\\Users\\conorak\\AppData\\Local\\Temp\\ipykernel_32524\\4119141938.py:4: SettingWithCopyWarning: \n",
      "A value is trying to be set on a copy of a slice from a DataFrame\n",
      "\n",
      "See the caveats in the documentation: https://pandas.pydata.org/pandas-docs/stable/user_guide/indexing.html#returning-a-view-versus-a-copy\n",
      "  data['gk'][i] = gk['sourceCode'][np.where(gk['targetCode']==int(data['grunnkrets'][i]))[0][0]]\n",
      "C:\\Users\\conorak\\AppData\\Local\\Temp\\ipykernel_32524\\4119141938.py:5: SettingWithCopyWarning: \n",
      "A value is trying to be set on a copy of a slice from a DataFrame\n",
      "\n",
      "See the caveats in the documentation: https://pandas.pydata.org/pandas-docs/stable/user_guide/indexing.html#returning-a-view-versus-a-copy\n",
      "  data['gkname'][i] = gk['sourceName'][np.where(gk['targetCode']==int(data['grunnkrets'][i]))[0][0]]\n"
     ]
    }
   ],
   "source": [
    "gk = pd.read_csv(r'C:\\Users\\conorak\\SegregationMaps\\529.csv',sep=';',encoding = 'unicode_escape')\n",
    "data['gk']='0'; data['gkname']='0'\n",
    "for i in range(len(data)):\n",
    "    data['gk'][i] = gk['sourceCode'][np.where(gk['targetCode']==int(data['grunnkrets'][i]))[0][0]]\n",
    "    data['gkname'][i] = gk['sourceName'][np.where(gk['targetCode']==int(data['grunnkrets'][i]))[0][0]]\n",
    "datagk = data.loc[np.unique(data['gk'],return_index=True)[1]]\n",
    "datagk.reset_index(inplace=True)\n",
    "\n",
    "for i in range(len(datagk)):\n",
    "    poly = data['geometry'].loc[np.where(data['gk']==datagk['gk'][i])]\n",
    "    datagk['geometry'][i] = poly.unary_union"
   ]
  },
  {
   "cell_type": "code",
   "execution_count": 58,
   "id": "5b7478c4",
   "metadata": {},
   "outputs": [
    {
     "name": "stderr",
     "output_type": "stream",
     "text": [
      "C:\\Users\\conorak\\AppData\\Local\\Temp\\ipykernel_32524\\1282114965.py:15: SettingWithCopyWarning: \n",
      "A value is trying to be set on a copy of a slice from a DataFrame\n",
      "\n",
      "See the caveats in the documentation: https://pandas.pydata.org/pandas-docs/stable/user_guide/indexing.html#returning-a-view-versus-a-copy\n",
      "  edu['DBD'][i] = edu['Utdanning'][i][9:]\n",
      "C:\\Users\\conorak\\AppData\\Local\\Temp\\ipykernel_32524\\1282114965.py:16: SettingWithCopyWarning: \n",
      "A value is trying to be set on a copy of a slice from a DataFrame\n",
      "\n",
      "See the caveats in the documentation: https://pandas.pydata.org/pandas-docs/stable/user_guide/indexing.html#returning-a-view-versus-a-copy\n",
      "  edu['lowedu'][i] = ((edu['Grunnskole'][i]+edu['Videregående utdanning'][i]+edu['Uoppgitt eller ingen fullført utdanning'][i])/\n",
      "C:\\Users\\conorak\\AppData\\Local\\Temp\\ipykernel_32524\\1282114965.py:18: SettingWithCopyWarning: \n",
      "A value is trying to be set on a copy of a slice from a DataFrame\n",
      "\n",
      "See the caveats in the documentation: https://pandas.pydata.org/pandas-docs/stable/user_guide/indexing.html#returning-a-view-versus-a-copy\n",
      "  edu['DBD'][96]='Sentrum'; edu['DBD'][97] = 'Marka'\n",
      "C:\\Users\\conorak\\AppData\\Local\\Temp\\ipykernel_32524\\1282114965.py:21: SettingWithCopyWarning: \n",
      "A value is trying to be set on a copy of a slice from a DataFrame\n",
      "\n",
      "See the caveats in the documentation: https://pandas.pydata.org/pandas-docs/stable/user_guide/indexing.html#returning-a-view-versus-a-copy\n",
      "  datagk['edu'][i] = edu['lowedu'][np.where(edu['DBD']==datagk['gkname'][i])[0][0]]\n"
     ]
    }
   ],
   "source": [
    "edu = pd.read_excel(r'C:\\Users\\conorak\\Food\\edu.xls')\n",
    "rm=[]\n",
    "for i in range(len(edu)):\n",
    "    if edu['Utdanning'][i][0]!='D':\n",
    "        if edu['Utdanning'][i]=='Sentrum':\n",
    "            continue\n",
    "        elif edu['Utdanning'][i]=='Marka':\n",
    "            continue\n",
    "        rm.append(i)\n",
    "edu=edu.drop(rm)\n",
    "edu=edu.drop([112,114]) #remove duplicates\n",
    "edu=edu.reset_index(drop=True)\n",
    "edu['DBD']='0'; edu['lowedu']=0.0\n",
    "for i in range(len(edu)):\n",
    "    edu['DBD'][i] = edu['Utdanning'][i][9:]\n",
    "    edu['lowedu'][i] = ((edu['Grunnskole'][i]+edu['Videregående utdanning'][i]+edu['Uoppgitt eller ingen fullført utdanning'][i])/\n",
    "                     edu['Utdanningsnivå i alt'][i])\n",
    "edu['DBD'][96]='Sentrum'; edu['DBD'][97] = 'Marka'\n",
    "datagk['edu'] = 0.0\n",
    "for i in range(len(datagk)):\n",
    "    datagk['edu'][i] = edu['lowedu'][np.where(edu['DBD']==datagk['gkname'][i])[0][0]]"
   ]
  },
  {
   "cell_type": "code",
   "execution_count": 60,
   "id": "557e7f62",
   "metadata": {},
   "outputs": [
    {
     "name": "stderr",
     "output_type": "stream",
     "text": [
      "C:\\Users\\conorak\\AppData\\Local\\Temp\\ipykernel_32524\\2032667193.py:19: SettingWithCopyWarning: \n",
      "A value is trying to be set on a copy of a slice from a DataFrame\n",
      "\n",
      "See the caveats in the documentation: https://pandas.pydata.org/pandas-docs/stable/user_guide/indexing.html#returning-a-view-versus-a-copy\n",
      "  datagk['emp'][i] = 100-emp[emp.keys()[2]][np.where(emp['DBD']==datagk['gkname'][i])[0][0]]\n"
     ]
    }
   ],
   "source": [
    "emp = pd.read_excel(r'C:\\Users\\conorak\\Food\\emp.xls')\n",
    "rm=[]\n",
    "for i in range(len(emp)):\n",
    "    if emp['Oslo i alt'][i][0]!='D':\n",
    "        if emp['Oslo i alt'][i]=='Sentrum':\n",
    "            continue\n",
    "        elif emp['Oslo i alt'][i]=='Marka':\n",
    "            continue\n",
    "        rm.append(i)\n",
    "emp=emp.drop(rm)\n",
    "# # dis=dis.drop([112,114]) #remove duplicates\n",
    "emp=emp.reset_index(drop=True)\n",
    "emp['DBD']='0'\n",
    "for i in range(len(emp)):\n",
    "    emp['DBD'][i] = emp['Oslo i alt'][i][9:]\n",
    "emp['DBD'][100]='Sentrum'; emp['DBD'][101] = 'Marka'\n",
    "datagk['emp'] = 0.0\n",
    "for i in range(len(datagk)):\n",
    "    datagk['emp'][i] = 100-emp[emp.keys()[2]][np.where(emp['DBD']==datagk['gkname'][i])[0][0]]"
   ]
  },
  {
   "cell_type": "code",
   "execution_count": 73,
   "id": "02b6a4dd",
   "metadata": {},
   "outputs": [
    {
     "name": "stderr",
     "output_type": "stream",
     "text": [
      "C:\\Users\\conorak\\AppData\\Local\\Temp\\ipykernel_32524\\253724697.py:19: SettingWithCopyWarning: \n",
      "A value is trying to be set on a copy of a slice from a DataFrame\n",
      "\n",
      "See the caveats in the documentation: https://pandas.pydata.org/pandas-docs/stable/user_guide/indexing.html#returning-a-view-versus-a-copy\n",
      "  datagk['dis'][i] = dis[dis.keys()[1]][np.where(dis['DBD']==datagk['gkname'][i])[0][0]]\n"
     ]
    }
   ],
   "source": [
    "dis=pd.read_excel(r'C:\\Users\\conorak\\Food\\dis.xls')\n",
    "rm=[]\n",
    "for i in range(len(dis)):\n",
    "    if dis['Oslo i alt'][i][0]!='D':\n",
    "        if dis['Oslo i alt'][i]=='Sentrum':\n",
    "            continue\n",
    "        elif dis['Oslo i alt'][i]=='Marka':\n",
    "            continue\n",
    "        rm.append(i)\n",
    "dis=dis.drop(rm)\n",
    "# dis=dis.drop([112,114]) #remove duplicates\n",
    "dis=dis.reset_index(drop=True)\n",
    "dis['DBD']='0'\n",
    "for i in range(len(dis)):\n",
    "    dis['DBD'][i] = dis['Oslo i alt'][i][9:]\n",
    "dis['DBD'][100]='Sentrum'; dis['DBD'][101] = 'Marka'\n",
    "datagk['dis'] = 0.0\n",
    "for i in range(len(datagk)):\n",
    "    datagk['dis'][i] = dis[dis.keys()[1]][np.where(dis['DBD']==datagk['gkname'][i])[0][0]]"
   ]
  },
  {
   "cell_type": "code",
   "execution_count": 96,
   "id": "a64a9906",
   "metadata": {},
   "outputs": [
    {
     "name": "stderr",
     "output_type": "stream",
     "text": [
      "C:\\Users\\conorak\\AppData\\Local\\Temp\\ipykernel_32524\\4189630906.py:19: SettingWithCopyWarning: \n",
      "A value is trying to be set on a copy of a slice from a DataFrame\n",
      "\n",
      "See the caveats in the documentation: https://pandas.pydata.org/pandas-docs/stable/user_guide/indexing.html#returning-a-view-versus-a-copy\n",
      "  datagk['inc'][i] = inc[inc.keys()[1]][np.where(inc['DBD']==datagk['gkname'][i])[0][0]]\n"
     ]
    }
   ],
   "source": [
    "inc=pd.read_excel(r'C:\\Users\\conorak\\Food\\inc.xls')\n",
    "rm=[]\n",
    "for i in range(len(inc)):\n",
    "    if inc['Oslo i alt'][i][0]!='D':\n",
    "        if inc['Oslo i alt'][i]=='Sentrum':\n",
    "            continue\n",
    "        elif inc['Oslo i alt'][i]=='Marka':\n",
    "            continue\n",
    "        rm.append(i)\n",
    "inc=inc.drop(rm)\n",
    "inc=inc.drop([117,119]) #remove duplicates\n",
    "inc=inc.reset_index(drop=True)\n",
    "inc['DBD']='0'\n",
    "for i in range(len(inc)):\n",
    "    inc['DBD'][i] = inc['Oslo i alt'][i][9:]\n",
    "inc['DBD'][100]='Sentrum'; inc['DBD'][101] = 'Marka'\n",
    "datagk['inc'] = 0.0\n",
    "for i in range(len(datagk)):\n",
    "    datagk['inc'][i] = inc[inc.keys()[1]][np.where(inc['DBD']==datagk['gkname'][i])[0][0]]"
   ]
  },
  {
   "cell_type": "code",
   "execution_count": 82,
   "id": "7ca6fc33",
   "metadata": {
    "scrolled": true
   },
   "outputs": [
    {
     "name": "stdout",
     "output_type": "stream",
     "text": [
      " * Serving Flask app \"__main__\" (lazy loading)\n",
      " * Environment: production\n",
      "\u001b[31m   WARNING: This is a development server. Do not use it in a production deployment.\u001b[0m\n",
      "\u001b[2m   Use a production WSGI server instead.\u001b[0m\n",
      " * Debug mode: off\n"
     ]
    },
    {
     "name": "stderr",
     "output_type": "stream",
     "text": [
      " * Running on http://127.0.0.1:5000/ (Press CTRL+C to quit)\n",
      "127.0.0.1 - - [07/Feb/2023 11:48:25] \"GET / HTTP/1.1\" 200 -\n",
      "127.0.0.1 - - [07/Feb/2023 11:48:27] \"POST /update_map HTTP/1.1\" 404 -\n",
      "127.0.0.1 - - [07/Feb/2023 11:48:28] \"POST / HTTP/1.1\" 200 -\n"
     ]
    }
   ],
   "source": [
    "# app = Flask(__name__)\n",
    "\n",
    "# @app.route('/', methods = ['GET','POST'])\n",
    "# def index():\n",
    "#     m = folium.Map(location=[59.95,10.75],zoom_start=10.4)\n",
    "#     #folium.GeoJson(data=datagk['geometry']).add_to(m)    \n",
    "#     #folium.GeoJson(data=data['geometry']).add_to(m)\n",
    "    \n",
    "#     if request.method=='POST':\n",
    "#         user_input = request.form['user_input']\n",
    "#         #user_input = request.get_json()\n",
    "\n",
    "#         if user_input == 'Unemployed':\n",
    "#             folium.Choropleth(\n",
    "#             geo_data=datagk['geometry'],\n",
    "#             name=\"choropleth\",\n",
    "#             data=datagk['emp'],\n",
    "#             columns=[\"DBD\", \"emp\"],\n",
    "#             key_on=\"feature.id\",\n",
    "#             fill_color=\"Reds\",\n",
    "#             fill_opacity=0.6,\n",
    "#             line_opacity=0.2,\n",
    "#             legend_name=\"Unemployment Rate (%)\").add_to(m)\n",
    "#         elif user_input == 'Percentage of persons with at most VGS':\n",
    "#             folium.Choropleth(\n",
    "#                 geo_data=datagk['geometry'],\n",
    "#                 name=\"choropleth\",\n",
    "#                 data=datagk['edu'],\n",
    "#                 columns=[\"DBD\", \"edu\"],\n",
    "#                 key_on=\"feature.id\",\n",
    "#                 fill_color=\"Reds\",\n",
    "#                 fill_opacity=0.6,\n",
    "#                 line_opacity=0.2,\n",
    "#                 legend_name=\"Percentage low-education\").add_to(m)\n",
    "#         elif user_input == 'Percentage registered disabled':\n",
    "#             folium.Choropleth(\n",
    "#                 geo_data=datagk['geometry'],\n",
    "#                 name=\"choropleth\",\n",
    "#                 data=datagk['dis'],\n",
    "#                 columns=[\"DBD\", \"dis\"],\n",
    "#                 key_on=\"feature.id\",\n",
    "#                 fill_color=\"Reds\",\n",
    "#                 fill_opacity=0.6,\n",
    "#                 line_opacity=0.2,\n",
    "#                 legend_name=\"Percentage registered disabled\").add_to(m)\n",
    "        \n",
    "#     else:\n",
    "#         folium.GeoJson(data=datagk['geometry']).add_to(m)\n",
    "        \n",
    "#     m.save('templates/map.html')\n",
    "#     return render_template(\"index.html\",map=m)\n",
    "\n",
    "# if __name__ == '__main__':\n",
    "#     app.run()"
   ]
  },
  {
   "cell_type": "code",
   "execution_count": 80,
   "id": "5ec63123",
   "metadata": {},
   "outputs": [
    {
     "name": "stdout",
     "output_type": "stream",
     "text": [
      " * Serving Flask app \"__main__\" (lazy loading)\n",
      " * Environment: production\n",
      "\u001b[31m   WARNING: This is a development server. Do not use it in a production deployment.\u001b[0m\n",
      "\u001b[2m   Use a production WSGI server instead.\u001b[0m\n",
      " * Debug mode: off\n"
     ]
    },
    {
     "name": "stderr",
     "output_type": "stream",
     "text": [
      " * Running on http://127.0.0.1:5000/ (Press CTRL+C to quit)\n",
      "127.0.0.1 - - [07/Feb/2023 11:45:13] \"GET / HTTP/1.1\" 404 -\n"
     ]
    }
   ],
   "source": [
    "# app = Flask(__name__)\n",
    "\n",
    "# @app.route('/update_map', methods=['POST'])\n",
    "# def update_map():\n",
    "#     user_input = request.get_json()\n",
    "#     m = folium.Map(location=[59.95, 10.75], zoom_start=10.4)\n",
    "    \n",
    "#     if 'Unemployed' in user_input:\n",
    "#         folium.Choropleth(\n",
    "#             geo_data=datagk['geometry'],\n",
    "#             name=\"choropleth\",\n",
    "#             data=datagk['emp'],\n",
    "#             columns=[\"DBD\", \"emp\"],\n",
    "#             key_on=\"feature.id\",\n",
    "#             fill_color=\"Reds\",\n",
    "#             fill_opacity=0.6,\n",
    "#             line_opacity=0.2,\n",
    "#             legend_name=\"Unemployment Rate (%)\").add_to(m)\n",
    "#     if 'Percentage of persons with at most VGS' in user_input:\n",
    "#         folium.Choropleth(\n",
    "#             geo_data=datagk['geometry'],\n",
    "#             name=\"choropleth\",\n",
    "#             data=datagk['edu'],\n",
    "#             columns=[\"DBD\", \"edu\"],\n",
    "#             key_on=\"feature.id\",\n",
    "#             fill_color=\"Reds\",\n",
    "#             fill_opacity=0.6,\n",
    "#             line_opacity=0.2,\n",
    "#             legend_name=\"Percentage low-education\").add_to(m)\n",
    "#     if 'Percentage registered disabled' in user_input:\n",
    "#         folium.Choropleth(\n",
    "#             geo_data=datagk['geometry'],\n",
    "#             name=\"choropleth\",\n",
    "#             data=datagk['dis'],\n",
    "#             columns=[\"DBD\", \"dis\"],\n",
    "#             key_on=\"feature.id\",\n",
    "#             fill_color=\"Reds\",\n",
    "#             fill_opacity=0.6,\n",
    "#             line_opacity=0.2,\n",
    "#             legend_name=\"Percentage registered disabled\").add_to(m)\n",
    "    \n",
    "#     m.save(\"templates/map.html\")\n",
    "#     return render_template(\"index.html\",map=m)\n",
    "\n",
    "# if __name__ == '__main__':\n",
    "#     app.run()\n"
   ]
  },
  {
   "cell_type": "code",
   "execution_count": 191,
   "id": "e749bacb",
   "metadata": {},
   "outputs": [
    {
     "name": "stdout",
     "output_type": "stream",
     "text": [
      " * Serving Flask app \"__main__\" (lazy loading)\n",
      " * Environment: production\n",
      "\u001b[31m   WARNING: This is a development server. Do not use it in a production deployment.\u001b[0m\n",
      "\u001b[2m   Use a production WSGI server instead.\u001b[0m\n",
      " * Debug mode: off\n"
     ]
    },
    {
     "name": "stderr",
     "output_type": "stream",
     "text": [
      " * Running on http://127.0.0.1:5000/ (Press CTRL+C to quit)\n",
      "127.0.0.1 - - [07/Feb/2023 15:06:30] \"GET / HTTP/1.1\" 200 -\n"
     ]
    },
    {
     "name": "stdout",
     "output_type": "stream",
     "text": [
      "['Unemployed', 'Percentage of persons with at most VGS'] 2\n"
     ]
    },
    {
     "name": "stderr",
     "output_type": "stream",
     "text": [
      "127.0.0.1 - - [07/Feb/2023 15:06:34] \"POST / HTTP/1.1\" 200 -\n"
     ]
    },
    {
     "name": "stdout",
     "output_type": "stream",
     "text": [
      "['Unemployed'] 1\n"
     ]
    },
    {
     "name": "stderr",
     "output_type": "stream",
     "text": [
      "127.0.0.1 - - [07/Feb/2023 15:07:08] \"POST / HTTP/1.1\" 200 -\n"
     ]
    },
    {
     "name": "stdout",
     "output_type": "stream",
     "text": [
      "['Percentage of persons with at most VGS'] 1\n"
     ]
    },
    {
     "name": "stderr",
     "output_type": "stream",
     "text": [
      "127.0.0.1 - - [07/Feb/2023 15:07:15] \"POST / HTTP/1.1\" 200 -\n"
     ]
    },
    {
     "name": "stdout",
     "output_type": "stream",
     "text": [
      "['Percentage registered disabled'] 1\n"
     ]
    },
    {
     "name": "stderr",
     "output_type": "stream",
     "text": [
      "127.0.0.1 - - [07/Feb/2023 15:07:17] \"POST / HTTP/1.1\" 200 -\n"
     ]
    },
    {
     "name": "stdout",
     "output_type": "stream",
     "text": [
      "['Percentage low income households'] 1\n"
     ]
    },
    {
     "name": "stderr",
     "output_type": "stream",
     "text": [
      "127.0.0.1 - - [07/Feb/2023 15:07:20] \"POST / HTTP/1.1\" 200 -\n"
     ]
    }
   ],
   "source": [
    "app = Flask(__name__)\n",
    "\n",
    "first_time=True\n",
    "\n",
    "@app.route('/', methods = ['GET','POST'])\n",
    "def index():\n",
    "    m = folium.Map(location=[59.95,10.75],zoom_start=10.4)\n",
    "    #folium.GeoJson(data=datagk['geometry']).add_to(m)    \n",
    "    #folium.GeoJson(data=data['geometry']).add_to(m)\n",
    "    \n",
    "    if request.method=='POST':\n",
    "        #user_input = request.form['user_input']\n",
    "        user_input = list(request.form.listvalues())[0]\n",
    "        print(user_input,len(user_input))\n",
    "        #print(list(request.form.listvalues())[0])\n",
    "        m = folium.Map(location=[59.95,10.75],zoom_start=10.4)\n",
    "        #user_input = request.get_json()\n",
    "        if len(user_input)==1:\n",
    "            if user_input[0] == 'Unemployed':\n",
    "                folium.Choropleth(\n",
    "                    geo_data=datagk['geometry'],\n",
    "                    name=\"choropleth\",\n",
    "                    data=datagk['emp'],\n",
    "                    columns=[\"DBD\", \"emp\"],\n",
    "                    key_on=\"feature.id\",\n",
    "                    fill_color=\"Reds\",\n",
    "                    fill_opacity=0.6,\n",
    "                    line_opacity=0.2,\n",
    "                    legend_name=\"Unemployment Rate (%)\").add_to(m)\n",
    "            elif user_input[0] == 'Percentage of persons with at most VGS':\n",
    "                folium.Choropleth(\n",
    "                    geo_data=datagk['geometry'],\n",
    "                    name=\"choropleth\",\n",
    "                    data=datagk['edu'],\n",
    "                    columns=[\"DBD\", \"edu\"],\n",
    "                    key_on=\"feature.id\",\n",
    "                    fill_color=\"Reds\",\n",
    "                    fill_opacity=0.6,\n",
    "                    line_opacity=0.2,\n",
    "                    legend_name=\"Percentage low-education\").add_to(m)\n",
    "            elif user_input[0] == 'Percentage registered disabled':\n",
    "                folium.Choropleth(\n",
    "                    geo_data=datagk['geometry'],\n",
    "                    name=\"choropleth\",\n",
    "                    data=datagk['dis'],\n",
    "                    columns=[\"DBD\", \"dis\"],\n",
    "                    key_on=\"feature.id\",\n",
    "                    fill_color=\"Reds\",\n",
    "                    fill_opacity=0.6,\n",
    "                    line_opacity=0.2,\n",
    "                    legend_name=\"Percentage registered disabled\").add_to(m)\n",
    "            elif user_input[0] == 'Percentage low income households':\n",
    "                folium.Choropleth(\n",
    "                    geo_data=datagk['geometry'],\n",
    "                    name=\"choropleth\",\n",
    "                    data=datagk['inc'],\n",
    "                    columns=[\"DBD\", \"inc\"],\n",
    "                    key_on=\"feature.id\",\n",
    "                    fill_color=\"Reds\",\n",
    "                    fill_opacity=0.6,\n",
    "                    line_opacity=0.2,\n",
    "                    legend_name=\"Percentage low income households\").add_to(m)\n",
    "        elif len(user_input)>1:\n",
    "            labels = ['Unemployed','Percentage of persons with at most VGS','Percentage registered disabled','Percentage low income households']\n",
    "            lab_idx = ['emp','edu','dis','inc']\n",
    "            datagk['new'] = 0.0\n",
    "            legend = ''\n",
    "            for i in range(len(labels)):\n",
    "                if labels[i] in user_input:\n",
    "                    datagk['new'] = datagk['new']+datagk[lab_idx[i]]\n",
    "                    legend = legend + str(labels[i])+\" | \"\n",
    "            datagk['new'] = datagk['new']/len(user_input)\n",
    "            folium.Choropleth(\n",
    "                geo_data=datagk['geometry'],\n",
    "                name=\"choropleth\",\n",
    "                data=datagk['new'],\n",
    "                columns=[\"DBD\", \"new\"],\n",
    "                key_on=\"feature.id\",\n",
    "                fill_color=\"Reds\",\n",
    "                fill_opacity=0.6,\n",
    "                line_opacity=0.2,\n",
    "                legend_name=legend).add_to(m)\n",
    "        else:\n",
    "            folium.GeoJson(data=datagk['geometry']).add_to(m)\n",
    "            \n",
    "        \n",
    "    else:\n",
    "        folium.GeoJson(data=datagk['geometry']).add_to(m)\n",
    "        \n",
    "    m.save('templates/map.html')\n",
    "    return render_template(\"index.html\",map=m)\n",
    "\n",
    "# @app.route('/update_map', methods=['POST'])\n",
    "# def update_map():\n",
    "#     global first_time\n",
    "    \n",
    "#     #user_input = request.get_json()\n",
    "#     user_input = request.form['user_input']\n",
    "#     m = folium.Map(location=[59.95, 10.75], zoom_start=10.4)\n",
    "#     print(user_input)\n",
    "#     if len(user_input)==1:\n",
    "#         if 'Unemployed' in user_input:\n",
    "#             folium.Choropleth(\n",
    "#                 geo_data=datagk['geometry'],\n",
    "#                 name=\"choropleth\",\n",
    "#                 data=datagk['emp'],\n",
    "#                 columns=[\"DBD\", \"emp\"],\n",
    "#                 key_on=\"feature.id\",\n",
    "#                 fill_color=\"Reds\",\n",
    "#                 fill_opacity=0.6,\n",
    "#                 line_opacity=0.2,\n",
    "#                 legend_name=\"Unemployment Rate (%)\").add_to(m)\n",
    "#         elif 'Percentage of persons with at most VGS' in user_input:\n",
    "#             folium.Choropleth(\n",
    "#                 geo_data=datagk['geometry'],\n",
    "#                 name=\"choropleth\",\n",
    "#                 data=datagk['edu'],\n",
    "#                 columns=[\"DBD\", \"edu\"],\n",
    "#                 key_on=\"feature.id\",\n",
    "#                 fill_color=\"Reds\",\n",
    "#                 fill_opacity=0.6,\n",
    "#                 line_opacity=0.2,\n",
    "#                 legend_name=\"Percentage low-education\").add_to(m)\n",
    "#         elif 'Percentage registered disabled' in user_input:\n",
    "#             folium.Choropleth(\n",
    "#                 geo_data=datagk['geometry'],\n",
    "#                 name=\"choropleth\",\n",
    "#                 data=datagk['dis'],\n",
    "#                 columns=[\"DBD\", \"dis\"],\n",
    "#                 key_on=\"feature.id\",\n",
    "#                 fill_color=\"Reds\",\n",
    "#                 fill_opacity=0.6,\n",
    "#                 line_opacity=0.2,\n",
    "#                 legend_name=\"Percentage registered disabled\").add_to(m)\n",
    "#     elif len(user_input)>1:\n",
    "#         print('Hello')\n",
    "#         labels = ['Unemployed','Percentage of persons with at most VGS','Percentage registered disabled','Percentage low income households']\n",
    "#         lab_idx = ['emp','edu','dis','inc']\n",
    "#         datagk['new'] = 0.0\n",
    "#         for i in range(len(labels)):\n",
    "#             if labels[i] in user_input:\n",
    "#                 datagk['new'] = datagk['new']+datagk[lab_idx[i]]\n",
    "#         datagk['new'] = datagk['new']/len(user_input)\n",
    "#         folium.Choropleth(\n",
    "#                 geo_data=datagk['geometry'],\n",
    "#                 name=\"choropleth\",\n",
    "#                 data=datagk['new'],\n",
    "#                 columns=[\"DBD\", \"new\"],\n",
    "#                 key_on=\"feature.id\",\n",
    "#                 fill_color=\"Reds\",\n",
    "#                 fill_opacity=0.6,\n",
    "#                 line_opacity=0.2,\n",
    "#                 legend_name=\"Composite score\").add_to(m)\n",
    "    \n",
    "#     if first_time:\n",
    "#         first_time=False\n",
    "    \n",
    "#     m.save(\"templates/map.html\")\n",
    "# #     response = make_response(m._repr_html_())\n",
    "# #     response.headers[\"Content-Type\"] = \"text/html\"\n",
    "# #     return response\n",
    "#     return render_template(\"index.html\",map=m)\n",
    "\n",
    "if __name__ == '__main__':\n",
    "    app.run()"
   ]
  },
  {
   "cell_type": "code",
   "execution_count": 108,
   "id": "65c0dcba",
   "metadata": {},
   "outputs": [
    {
     "name": "stdout",
     "output_type": "stream",
     "text": [
      " * Serving Flask app \"__main__\" (lazy loading)\n",
      " * Environment: production\n",
      "\u001b[31m   WARNING: This is a development server. Do not use it in a production deployment.\u001b[0m\n",
      "\u001b[2m   Use a production WSGI server instead.\u001b[0m\n",
      " * Debug mode: off\n"
     ]
    },
    {
     "name": "stderr",
     "output_type": "stream",
     "text": [
      " * Running on http://127.0.0.1:5000/ (Press CTRL+C to quit)\n",
      "127.0.0.1 - - [07/Feb/2023 12:41:58] \"GET / HTTP/1.1\" 200 -\n",
      "127.0.0.1 - - [07/Feb/2023 12:42:00] \"POST /update_map HTTP/1.1\" 200 -\n"
     ]
    },
    {
     "name": "stdout",
     "output_type": "stream",
     "text": [
      "{'Unemployed': True} 1\n"
     ]
    },
    {
     "name": "stderr",
     "output_type": "stream",
     "text": [
      "127.0.0.1 - - [07/Feb/2023 12:42:01] \"POST / HTTP/1.1\" 405 -\n"
     ]
    }
   ],
   "source": [
    "# app = Flask(__name__)\n",
    "\n",
    "# first_time=True\n",
    "\n",
    "# @app.route('/')\n",
    "# def index():\n",
    "#     return render_template(\"index.html\",map=m)\n",
    "\n",
    "# @app.route('/update_map', methods=['POST'])\n",
    "# def update_map():\n",
    "#     global first_time,m\n",
    "#     user_input = request.get_json()\n",
    "#     m = folium.Map(location=[59.95, 10.75], zoom_start=10.4)\n",
    "    \n",
    "#     print(user_input,len(user_input))\n",
    "    \n",
    "#     if len(user_input)==1:\n",
    "#         if 'Unemployed' in user_input:\n",
    "#             folium.Choropleth(\n",
    "#                 geo_data=datagk['geometry'],\n",
    "#                 name=\"choropleth\",\n",
    "#                 data=datagk['emp'],\n",
    "#                 columns=[\"DBD\", \"emp\"],\n",
    "#                 key_on=\"feature.id\",\n",
    "#                 fill_color=\"Reds\",\n",
    "#                 fill_opacity=0.6,\n",
    "#                 line_opacity=0.2,\n",
    "#                 legend_name=\"Unemployment Rate (%)\").add_to(m)\n",
    "#         if 'Percentage of persons with at most VGS' in user_input:\n",
    "#             folium.Choropleth(\n",
    "#                 geo_data=datagk['geometry'],\n",
    "#                 name=\"choropleth\",\n",
    "#                 data=datagk['edu'],\n",
    "#                 columns=[\"DBD\", \"edu\"],\n",
    "#                 key_on=\"feature.id\",\n",
    "#                 fill_color=\"Reds\",\n",
    "#                 fill_opacity=0.6,\n",
    "#                 line_opacity=0.2,\n",
    "#                 legend_name=\"Percentage low-education\").add_to(m)\n",
    "#         if 'Percentage registered disabled' in user_input:\n",
    "#             folium.Choropleth(\n",
    "#                 geo_data=datagk['geometry'],\n",
    "#                 name=\"choropleth\",\n",
    "#                 data=datagk['dis'],\n",
    "#                 columns=[\"DBD\", \"dis\"],\n",
    "#                 key_on=\"feature.id\",\n",
    "#                 fill_color=\"Reds\",\n",
    "#                 fill_opacity=0.6,\n",
    "#                 line_opacity=0.2,\n",
    "#                 legend_name=\"Percentage registered disabled\").add_to(m)\n",
    "#     elif len(user_input)>1:\n",
    "#         labels = ['Unemployed','Percentage of persons with at most VGS','Percentage registered disabled','Percentage low income households']\n",
    "#         lab_idx = ['emp','edu','dis','inc']\n",
    "#         datagk['new'] = 0.0\n",
    "#         for i in range(len(labels)):\n",
    "#             if labels[i] in user_input:\n",
    "#                 datagk['new'] = datagk['new']+datagk[lab_idx[i]]\n",
    "#         datagk['new'] = datagk['new']/len(user_input)\n",
    "#         folium.Choropleth(\n",
    "#                 geo_data=datagk['geometry'],\n",
    "#                 name=\"choropleth\",\n",
    "#                 data=datagk['new'],\n",
    "#                 columns=[\"DBD\", \"new\"],\n",
    "#                 key_on=\"feature.id\",\n",
    "#                 fill_color=\"Reds\",\n",
    "#                 fill_opacity=0.6,\n",
    "#                 line_opacity=0.2,\n",
    "#                 legend_name=\"Composite score\").add_to(m)\n",
    "    \n",
    "#     if first_time:\n",
    "#         first_time=False\n",
    "    \n",
    "#     m.save(\"templates/map.html\")\n",
    "#     return \"Map updated\"\n",
    "#     #return render_template(\"index.html\",map=m)\n",
    "\n",
    "# if __name__ == '__main__':\n",
    "#     app.run()"
   ]
  },
  {
   "cell_type": "code",
   "execution_count": null,
   "id": "7630f890",
   "metadata": {},
   "outputs": [],
   "source": [
    "m = folium.Map(location=[59.9,10.75],zoom_start=11)\n",
    "#folium.plugins.Draw(data,polyline=True).add_to(m)\n",
    "#folium.GeoJson(data,overlay=True).add_to(m)\n",
    "#folium.GeoJson(data=data['geometry']).add_to(m)\n",
    "#folium.GeoJson(data=datagk['geometry']).add_to(m)\n",
    "folium.Choropleth(\n",
    "    geo_data=datagk['geometry'],\n",
    "    name=\"choropleth\",\n",
    "    data=datagk['emp'],\n",
    "    columns=[\"DBD\", \"emp\"],\n",
    "    key_on=\"feature.id\",\n",
    "    fill_color=\"Reds\",\n",
    "    fill_opacity=0.7,\n",
    "    line_opacity=0.2,\n",
    "    legend_name=\"Unemployment Rate (%)\",\n",
    ").add_to(m)\n",
    "m"
   ]
  },
  {
   "cell_type": "code",
   "execution_count": null,
   "id": "0f69382b",
   "metadata": {},
   "outputs": [],
   "source": [
    "data"
   ]
  },
  {
   "cell_type": "code",
   "execution_count": null,
   "id": "cd64e981",
   "metadata": {},
   "outputs": [],
   "source": []
  }
 ],
 "metadata": {
  "kernelspec": {
   "display_name": "Python 3 (ipykernel)",
   "language": "python",
   "name": "python3"
  },
  "language_info": {
   "codemirror_mode": {
    "name": "ipython",
    "version": 3
   },
   "file_extension": ".py",
   "mimetype": "text/x-python",
   "name": "python",
   "nbconvert_exporter": "python",
   "pygments_lexer": "ipython3",
   "version": "3.9.12"
  }
 },
 "nbformat": 4,
 "nbformat_minor": 5
}
